{
 "cells": [
  {
   "cell_type": "markdown",
   "metadata": {},
   "source": [
    "## In this notebook the police-department-calls-for-service datasets is explored"
   ]
  },
  {
   "cell_type": "code",
   "execution_count": 1,
   "metadata": {},
   "outputs": [],
   "source": [
    "#### importing required python packages\n",
    "import numpy as np\n",
    "import pandas as pd\n",
    "import os\n",
    "import matplotlib.pyplot as plt\n",
    "import datetime\n",
    "import seaborn as sns\n",
    "\n",
    "import warnings\n",
    "warnings.filterwarnings('ignore')\n",
    "\n"
   ]
  },
  {
   "cell_type": "code",
   "execution_count": 2,
   "metadata": {},
   "outputs": [],
   "source": [
    "#### reading in the data\n",
    "calls = pd.read_csv('../data/sf-police-calls-for-service-and-incidents/police-department-calls-for-service.csv')"
   ]
  },
  {
   "cell_type": "markdown",
   "metadata": {},
   "source": [
    "## general information about the \"calls\" dataset"
   ]
  },
  {
   "cell_type": "code",
   "execution_count": 3,
   "metadata": {
    "scrolled": true
   },
   "outputs": [
    {
     "name": "stdout",
     "output_type": "stream",
     "text": [
      "<class 'pandas.core.frame.DataFrame'>\n",
      "RangeIndex: 3035330 entries, 0 to 3035329\n",
      "Data columns (total 14 columns):\n",
      "Crime Id                    int64\n",
      "Original Crime Type Name    object\n",
      "Report Date                 object\n",
      "Call Date                   object\n",
      "Offense Date                object\n",
      "Call Time                   object\n",
      "Call Date Time              object\n",
      "Disposition                 object\n",
      "Address                     object\n",
      "City                        object\n",
      "State                       object\n",
      "Agency Id                   int64\n",
      "Address Type                object\n",
      "Common Location             object\n",
      "dtypes: int64(2), object(12)\n",
      "memory usage: 324.2+ MB\n"
     ]
    }
   ],
   "source": [
    "calls.info()"
   ]
  },
  {
   "cell_type": "markdown",
   "metadata": {},
   "source": [
    "The calls dataframe has over 3M rows and a total of 14 columns. Crime Id and Agency Id columns are integers and the rest of the columns are of type string. We will convert Report Date, call Date, Offense Date, Call Time, and Call Date Time to datetime objects. "
   ]
  },
  {
   "cell_type": "markdown",
   "metadata": {},
   "source": [
    "## Missing values in the \"calls\" dataset"
   ]
  },
  {
   "cell_type": "code",
   "execution_count": 4,
   "metadata": {},
   "outputs": [
    {
     "data": {
      "text/plain": [
       "Crime Id                          0\n",
       "Original Crime Type Name          0\n",
       "Report Date                       0\n",
       "Call Date                         0\n",
       "Offense Date                      0\n",
       "Call Time                         0\n",
       "Call Date Time                    0\n",
       "Disposition                       0\n",
       "Address                           0\n",
       "City                          75502\n",
       "State                             0\n",
       "Agency Id                         0\n",
       "Address Type                      0\n",
       "Common Location             2708815\n",
       "dtype: int64"
      ]
     },
     "execution_count": 4,
     "metadata": {},
     "output_type": "execute_result"
    }
   ],
   "source": [
    "calls.isna().sum()"
   ]
  },
  {
   "cell_type": "markdown",
   "metadata": {},
   "source": [
    "The only missing values in the \"calls\" dataframe exist in columns City and Common Location. We'll take a closer look at the rows that include missing values in these two columns. "
   ]
  },
  {
   "cell_type": "code",
   "execution_count": 5,
   "metadata": {},
   "outputs": [],
   "source": [
    "calls_missing_common_location = calls.loc[calls['Common Location'].isna()]\n",
    "calls_non_missing_common_location = calls.loc[~ calls['Common Location'].isna()]"
   ]
  },
  {
   "cell_type": "markdown",
   "metadata": {},
   "source": [
    "Let's see what is the address type of the rows with missing and non-missing \"Common Location\" column:"
   ]
  },
  {
   "cell_type": "code",
   "execution_count": 6,
   "metadata": {},
   "outputs": [
    {
     "data": {
      "text/plain": [
       "array(['Common Location'], dtype=object)"
      ]
     },
     "execution_count": 6,
     "metadata": {},
     "output_type": "execute_result"
    }
   ],
   "source": [
    "calls_non_missing_common_location['Address Type'].unique()"
   ]
  },
  {
   "cell_type": "code",
   "execution_count": 7,
   "metadata": {},
   "outputs": [
    {
     "data": {
      "text/plain": [
       "array(['Premise Address', 'Intersection', 'Geo-Override'], dtype=object)"
      ]
     },
     "execution_count": 7,
     "metadata": {},
     "output_type": "execute_result"
    }
   ],
   "source": [
    "calls_missing_common_location['Address Type'].unique()"
   ]
  },
  {
   "cell_type": "markdown",
   "metadata": {},
   "source": [
    "Ok! so the \"Common Location\" column has missing values for all the rows where the Address Type is not \"Common Location\". "
   ]
  },
  {
   "cell_type": "markdown",
   "metadata": {},
   "source": [
    "Now let's take a look at the missing values at the \"City\" column."
   ]
  },
  {
   "cell_type": "code",
   "execution_count": 8,
   "metadata": {},
   "outputs": [],
   "source": [
    "calls_missing_city = calls.loc[calls['City'].isna()]\n",
    "calls_non_missing_city = calls.loc[~ calls['City'].isna()]"
   ]
  },
  {
   "cell_type": "markdown",
   "metadata": {},
   "source": [
    "We will check to see if the addresses in the missing city dataframe exist in other rows of the dataframe with non-missing city names."
   ]
  },
  {
   "cell_type": "code",
   "execution_count": 9,
   "metadata": {},
   "outputs": [
    {
     "data": {
      "text/plain": [
       "231"
      ]
     },
     "execution_count": 9,
     "metadata": {},
     "output_type": "execute_result"
    }
   ],
   "source": [
    "common_addresses = set(calls_missing_city['Address'].values).intersection(set(calls_non_missing_city['Address'].values))\n",
    "common_addresses = list(common_addresses)\n",
    "len(common_addresses)"
   ]
  },
  {
   "cell_type": "markdown",
   "metadata": {},
   "source": [
    "We see that in 231 of the addrersses with missing cities, that address exists in the calls-non-missing-city dataframe. So with the assumption that those redundant addresses came from the same city, we substitute the missing city name with the existing city name where the addresses are the same. "
   ]
  },
  {
   "cell_type": "code",
   "execution_count": 10,
   "metadata": {},
   "outputs": [],
   "source": [
    "for i in range(len(common_addresses)):\n",
    "    calls.loc[(calls['City'].isna())&(calls['Address'] == common_addresses[i]),'City'] = calls.loc[(~ calls['City'].isna())&(calls['Address'] == common_addresses[i])]['City'].values[0]"
   ]
  },
  {
   "cell_type": "code",
   "execution_count": 11,
   "metadata": {},
   "outputs": [
    {
     "data": {
      "text/plain": [
       "Crime Id                          0\n",
       "Original Crime Type Name          0\n",
       "Report Date                       0\n",
       "Call Date                         0\n",
       "Offense Date                      0\n",
       "Call Time                         0\n",
       "Call Date Time                    0\n",
       "Disposition                       0\n",
       "Address                           0\n",
       "City                          73698\n",
       "State                             0\n",
       "Agency Id                         0\n",
       "Address Type                      0\n",
       "Common Location             2708815\n",
       "dtype: int64"
      ]
     },
     "execution_count": 11,
     "metadata": {},
     "output_type": "execute_result"
    }
   ],
   "source": [
    "calls.isna().sum()"
   ]
  },
  {
   "cell_type": "markdown",
   "metadata": {},
   "source": [
    "We see now that the number of missing \"City\" rows declined from 75502 to 73698. There are other ways we could try to find out the missing City names but for the purpose of this general analysis, we will remove the rows with missing City names (2.43 % of the data). However, before doing so, we will look at distribution of Crime type, Disposition, and Crime time to ensure that the rows with missing City names that we intend to remove don't have a significantly different distribution than the rest of the rows (i.e. ensuring that missing cities are not biased towards calls that were made at a particular time of day, etc.)"
   ]
  },
  {
   "cell_type": "markdown",
   "metadata": {},
   "source": [
    "## Crime Id"
   ]
  },
  {
   "cell_type": "markdown",
   "metadata": {},
   "source": [
    "We'll check to see if Crime Id is the unique identifier of the call:"
   ]
  },
  {
   "cell_type": "code",
   "execution_count": 12,
   "metadata": {},
   "outputs": [
    {
     "data": {
      "text/plain": [
       "True"
      ]
     },
     "execution_count": 12,
     "metadata": {},
     "output_type": "execute_result"
    }
   ],
   "source": [
    "len(calls['Crime Id'].unique()) == len(calls)"
   ]
  },
  {
   "cell_type": "markdown",
   "metadata": {},
   "source": [
    "Yes! Crime Id is unique for each service call. "
   ]
  },
  {
   "cell_type": "code",
   "execution_count": 13,
   "metadata": {},
   "outputs": [],
   "source": [
    "## Agency Id"
   ]
  },
  {
   "cell_type": "code",
   "execution_count": 14,
   "metadata": {},
   "outputs": [
    {
     "data": {
      "text/plain": [
       "array([1])"
      ]
     },
     "execution_count": 14,
     "metadata": {},
     "output_type": "execute_result"
    }
   ],
   "source": [
    "calls['Agency Id'].unique()"
   ]
  },
  {
   "cell_type": "markdown",
   "metadata": {},
   "source": [
    "The value of \"Agency Id\" column is 1 for all the calls in this dataframe."
   ]
  },
  {
   "cell_type": "markdown",
   "metadata": {},
   "source": [
    "## Original Crime Type Name"
   ]
  },
  {
   "cell_type": "markdown",
   "metadata": {},
   "source": [
    "Let's see what the most common crime types are:"
   ]
  },
  {
   "cell_type": "code",
   "execution_count": 15,
   "metadata": {},
   "outputs": [],
   "source": [
    "Crime_Types_Freq = calls.groupby('Original Crime Type Name')['Crime Id'].count().sort_values(ascending = False).reset_index()\n",
    "Crime_Types_Freq.rename(columns = {'Crime Id':'Count'}, inplace = True)"
   ]
  },
  {
   "cell_type": "code",
   "execution_count": 16,
   "metadata": {},
   "outputs": [],
   "source": [
    "Crime_Types_Freq['Percent'] = Crime_Types_Freq['Count']/Crime_Types_Freq['Count'].sum()*100"
   ]
  },
  {
   "cell_type": "code",
   "execution_count": 17,
   "metadata": {},
   "outputs": [
    {
     "data": {
      "text/html": [
       "<div>\n",
       "<style scoped>\n",
       "    .dataframe tbody tr th:only-of-type {\n",
       "        vertical-align: middle;\n",
       "    }\n",
       "\n",
       "    .dataframe tbody tr th {\n",
       "        vertical-align: top;\n",
       "    }\n",
       "\n",
       "    .dataframe thead th {\n",
       "        text-align: right;\n",
       "    }\n",
       "</style>\n",
       "<table border=\"1\" class=\"dataframe\">\n",
       "  <thead>\n",
       "    <tr style=\"text-align: right;\">\n",
       "      <th></th>\n",
       "      <th>Original Crime Type Name</th>\n",
       "      <th>Count</th>\n",
       "      <th>Percent</th>\n",
       "    </tr>\n",
       "  </thead>\n",
       "  <tbody>\n",
       "    <tr>\n",
       "      <td>0</td>\n",
       "      <td>Passing Call</td>\n",
       "      <td>447929</td>\n",
       "      <td>14.757176</td>\n",
       "    </tr>\n",
       "    <tr>\n",
       "      <td>1</td>\n",
       "      <td>Traffic Stop</td>\n",
       "      <td>284572</td>\n",
       "      <td>9.375323</td>\n",
       "    </tr>\n",
       "    <tr>\n",
       "      <td>2</td>\n",
       "      <td>Suspicious Person</td>\n",
       "      <td>151450</td>\n",
       "      <td>4.989573</td>\n",
       "    </tr>\n",
       "    <tr>\n",
       "      <td>3</td>\n",
       "      <td>Homeless Complaint</td>\n",
       "      <td>142353</td>\n",
       "      <td>4.689869</td>\n",
       "    </tr>\n",
       "    <tr>\n",
       "      <td>4</td>\n",
       "      <td>22500e</td>\n",
       "      <td>104197</td>\n",
       "      <td>3.432806</td>\n",
       "    </tr>\n",
       "    <tr>\n",
       "      <td>...</td>\n",
       "      <td>...</td>\n",
       "      <td>...</td>\n",
       "      <td>...</td>\n",
       "    </tr>\n",
       "    <tr>\n",
       "      <td>22267</td>\n",
       "      <td>Male 586</td>\n",
       "      <td>1</td>\n",
       "      <td>0.000033</td>\n",
       "    </tr>\n",
       "    <tr>\n",
       "      <td>22268</td>\n",
       "      <td>Male 311</td>\n",
       "      <td>1</td>\n",
       "      <td>0.000033</td>\n",
       "    </tr>\n",
       "    <tr>\n",
       "      <td>22269</td>\n",
       "      <td>Male /Poss</td>\n",
       "      <td>1</td>\n",
       "      <td>0.000033</td>\n",
       "    </tr>\n",
       "    <tr>\n",
       "      <td>22270</td>\n",
       "      <td>Male / Ranting</td>\n",
       "      <td>1</td>\n",
       "      <td>0.000033</td>\n",
       "    </tr>\n",
       "    <tr>\n",
       "      <td>22271</td>\n",
       "      <td>\"Active\"</td>\n",
       "      <td>1</td>\n",
       "      <td>0.000033</td>\n",
       "    </tr>\n",
       "  </tbody>\n",
       "</table>\n",
       "<p>22272 rows × 3 columns</p>\n",
       "</div>"
      ],
      "text/plain": [
       "      Original Crime Type Name   Count    Percent\n",
       "0                 Passing Call  447929  14.757176\n",
       "1                 Traffic Stop  284572   9.375323\n",
       "2            Suspicious Person  151450   4.989573\n",
       "3           Homeless Complaint  142353   4.689869\n",
       "4                       22500e  104197   3.432806\n",
       "...                        ...     ...        ...\n",
       "22267                 Male 586       1   0.000033\n",
       "22268                 Male 311       1   0.000033\n",
       "22269               Male /Poss       1   0.000033\n",
       "22270           Male / Ranting       1   0.000033\n",
       "22271                 \"Active\"       1   0.000033\n",
       "\n",
       "[22272 rows x 3 columns]"
      ]
     },
     "execution_count": 17,
     "metadata": {},
     "output_type": "execute_result"
    }
   ],
   "source": [
    "Crime_Types_Freq"
   ]
  },
  {
   "cell_type": "markdown",
   "metadata": {},
   "source": [
    "Plotting the most common crime types in service calls:"
   ]
  },
  {
   "cell_type": "code",
   "execution_count": 18,
   "metadata": {
    "scrolled": false
   },
   "outputs": [
    {
     "data": {
      "image/png": "[encoded data removed]",
      "text/plain": [
       "<Figure size 720x720 with 1 Axes>"
      ]
     },
     "metadata": {
      "needs_background": "light"
     },
     "output_type": "display_data"
    }
   ],
   "source": [
    "fig = plt.figure(figsize = (10,10))\n",
    "ax  = fig.add_subplot(1,1,1)\n",
    "plt.barh(Crime_Types_Freq['Original Crime Type Name'].values[0:15][::-1],\n",
    "        Crime_Types_Freq['Percent'].values[0:15][::-1], color = 'lightgray', edgecolor = 'black')\n",
    "ax.tick_params(axis='both', which='major', labelsize=14)\n",
    "plt.xlabel('% of total calls', fontsize = 16)\n",
    "plt.ylabel('Crime Type', fontsize = 16)\n",
    "\n",
    "for i in range(len(Crime_Types_Freq['Original Crime Type Name'].values[0:15][::-1])):\n",
    "    plt.text(Crime_Types_Freq['Percent'].values[0:15][::-1][i]+0.1 , i , \n",
    "             round(Crime_Types_Freq['Percent'].values[0:15][::-1][i],1), fontsize = 12)\n",
    "\n",
    "plt.xlim(0,16)\n",
    "plt.savefig ('../Plots/calls/Percent_all_calls_by_type.pdf', bbox_inches = 'tight')"
   ]
  },
  {
   "cell_type": "code",
   "execution_count": 19,
   "metadata": {},
   "outputs": [],
   "source": [
    "Top_15_Crime_Types = Crime_Types_Freq['Original Crime Type Name'].values[0:15][::-1]"
   ]
  },
  {
   "cell_type": "markdown",
   "metadata": {},
   "source": [
    "Are the distribution of Crime Types different between calls with or without missing City? "
   ]
  },
  {
   "cell_type": "code",
   "execution_count": 20,
   "metadata": {},
   "outputs": [
    {
     "data": {
      "image/png": "[encoded data removed]",
      "text/plain": [
       "<Figure size 1080x720 with 2 Axes>"
      ]
     },
     "metadata": {
      "needs_background": "light"
     },
     "output_type": "display_data"
    }
   ],
   "source": [
    "Crime_Types_Freq_missing_city = calls_missing_city.groupby('Original Crime Type Name')['Crime Id'].count().sort_values(ascending = False).reset_index()\n",
    "Crime_Types_Freq_missing_city.rename(columns = {'Crime Id':'Count'}, inplace = True)\n",
    "Crime_Types_Freq_missing_city['Percent'] = Crime_Types_Freq_missing_city['Count']/Crime_Types_Freq_missing_city['Count'].sum()*100\n",
    "\n",
    "Crime_Types_Freq_no_missing_city = calls_non_missing_city.groupby('Original Crime Type Name')['Crime Id'].count().sort_values(ascending = False).reset_index()\n",
    "Crime_Types_Freq_no_missing_city.rename(columns = {'Crime Id':'Count'}, inplace = True)\n",
    "Crime_Types_Freq_no_missing_city['Percent'] = Crime_Types_Freq_no_missing_city['Count']/Crime_Types_Freq_no_missing_city['Count'].sum()*100\n",
    "\n",
    "\n",
    "fig = plt.figure(figsize = (15,10))\n",
    "ax1  = fig.add_subplot(1,2,1)\n",
    "plt.barh(Crime_Types_Freq_missing_city['Original Crime Type Name'].values[0:15][::-1],\n",
    "        Crime_Types_Freq_missing_city['Percent'].values[0:15][::-1], color = 'lightgray', edgecolor = 'black')\n",
    "\n",
    "plt.xlabel('% of total calls', fontsize = 14)\n",
    "plt.ylabel('Crime Type', fontsize = 14)\n",
    "plt.title('Calls with missing city values', fontsize = 16)\n",
    "\n",
    "ax2  = fig.add_subplot(1,2,2)\n",
    "plt.barh(Crime_Types_Freq_no_missing_city['Original Crime Type Name'].values[0:15][::-1],\n",
    "        Crime_Types_Freq_no_missing_city['Percent'].values[0:15][::-1], color = 'lightgray', edgecolor = 'black')\n",
    "plt.xlabel('% of total calls', fontsize = 14)\n",
    "plt.title('Calls with valid city values', fontsize = 16)\n",
    "\n",
    "plt.subplots_adjust( wspace=0.5)\n",
    "plt.savefig ('../Plots/calls/Percent_all_calls_by_type_missingCity.pdf', bbox_inches = 'tight')"
   ]
  },
  {
   "cell_type": "markdown",
   "metadata": {},
   "source": [
    "We see that more than 60% of calls with missing city values are \"passing call\"s and that the distribution of crime types for the calls with missing city values is different than for the ones with valid city values. "
   ]
  },
  {
   "cell_type": "markdown",
   "metadata": {},
   "source": [
    "## State and City\n",
    "Since the audience of this analysis is the Mayor of San Francisco, we will first look at distribution of calls per city and then focus the rest of the analysis to the calls involving addresses in the city of San Francisco. "
   ]
  },
  {
   "cell_type": "code",
   "execution_count": 21,
   "metadata": {},
   "outputs": [
    {
     "data": {
      "text/plain": [
       "array(['CA'], dtype=object)"
      ]
     },
     "execution_count": 21,
     "metadata": {},
     "output_type": "execute_result"
    }
   ],
   "source": [
    "calls['State'].unique()"
   ]
  },
  {
   "cell_type": "markdown",
   "metadata": {},
   "source": [
    "The value of State column for all the calls is \"CA\". "
   ]
  },
  {
   "cell_type": "code",
   "execution_count": 22,
   "metadata": {
    "scrolled": true
   },
   "outputs": [
    {
     "data": {
      "text/plain": [
       "array(['San Francisco', 'Yerba Buena', 'Treasure Isla', 'Hunters Point',\n",
       "       nan, 'Presidio', 'Daly City', 'Fort Mason', 'Brisbane'],\n",
       "      dtype=object)"
      ]
     },
     "execution_count": 22,
     "metadata": {},
     "output_type": "execute_result"
    }
   ],
   "source": [
    "calls['City'].unique()"
   ]
  },
  {
   "cell_type": "markdown",
   "metadata": {},
   "source": [
    "Calls in this dataframe come from 8 different Cities. Let's look at distribution of calls by city."
   ]
  },
  {
   "cell_type": "code",
   "execution_count": 23,
   "metadata": {},
   "outputs": [],
   "source": [
    "calls_by_city = calls.groupby('City')['Crime Id'].count().sort_values(ascending = False).reset_index()"
   ]
  },
  {
   "cell_type": "code",
   "execution_count": 24,
   "metadata": {},
   "outputs": [
    {
     "data": {
      "text/html": [
       "<div>\n",
       "<style scoped>\n",
       "    .dataframe tbody tr th:only-of-type {\n",
       "        vertical-align: middle;\n",
       "    }\n",
       "\n",
       "    .dataframe tbody tr th {\n",
       "        vertical-align: top;\n",
       "    }\n",
       "\n",
       "    .dataframe thead th {\n",
       "        text-align: right;\n",
       "    }\n",
       "</style>\n",
       "<table border=\"1\" class=\"dataframe\">\n",
       "  <thead>\n",
       "    <tr style=\"text-align: right;\">\n",
       "      <th></th>\n",
       "      <th>City</th>\n",
       "      <th>Count</th>\n",
       "      <th>Percent</th>\n",
       "    </tr>\n",
       "  </thead>\n",
       "  <tbody>\n",
       "    <tr>\n",
       "      <td>0</td>\n",
       "      <td>San Francisco</td>\n",
       "      <td>2935335</td>\n",
       "      <td>96.705630</td>\n",
       "    </tr>\n",
       "    <tr>\n",
       "      <td>1</td>\n",
       "      <td>Treasure Isla</td>\n",
       "      <td>20117</td>\n",
       "      <td>0.662762</td>\n",
       "    </tr>\n",
       "    <tr>\n",
       "      <td>2</td>\n",
       "      <td>Yerba Buena</td>\n",
       "      <td>2836</td>\n",
       "      <td>0.093433</td>\n",
       "    </tr>\n",
       "    <tr>\n",
       "      <td>3</td>\n",
       "      <td>Daly City</td>\n",
       "      <td>1421</td>\n",
       "      <td>0.046815</td>\n",
       "    </tr>\n",
       "    <tr>\n",
       "      <td>4</td>\n",
       "      <td>Hunters Point</td>\n",
       "      <td>907</td>\n",
       "      <td>0.029881</td>\n",
       "    </tr>\n",
       "    <tr>\n",
       "      <td>5</td>\n",
       "      <td>Presidio</td>\n",
       "      <td>875</td>\n",
       "      <td>0.028827</td>\n",
       "    </tr>\n",
       "    <tr>\n",
       "      <td>6</td>\n",
       "      <td>Fort Mason</td>\n",
       "      <td>89</td>\n",
       "      <td>0.002932</td>\n",
       "    </tr>\n",
       "    <tr>\n",
       "      <td>7</td>\n",
       "      <td>Brisbane</td>\n",
       "      <td>52</td>\n",
       "      <td>0.001713</td>\n",
       "    </tr>\n",
       "    <tr>\n",
       "      <td>0</td>\n",
       "      <td>Missing</td>\n",
       "      <td>73698</td>\n",
       "      <td>2.428006</td>\n",
       "    </tr>\n",
       "  </tbody>\n",
       "</table>\n",
       "</div>"
      ],
      "text/plain": [
       "            City    Count    Percent\n",
       "0  San Francisco  2935335  96.705630\n",
       "1  Treasure Isla    20117   0.662762\n",
       "2    Yerba Buena     2836   0.093433\n",
       "3      Daly City     1421   0.046815\n",
       "4  Hunters Point      907   0.029881\n",
       "5       Presidio      875   0.028827\n",
       "6     Fort Mason       89   0.002932\n",
       "7       Brisbane       52   0.001713\n",
       "0        Missing    73698   2.428006"
      ]
     },
     "execution_count": 24,
     "metadata": {},
     "output_type": "execute_result"
    }
   ],
   "source": [
    "calls_by_city.rename (columns = {'Crime Id':'Count'}, inplace = True)\n",
    "nan_df = pd.DataFrame()\n",
    "nan_df['City'] = ['Missing']\n",
    "nan_df['Count'] = calls['City'].isna().sum()\n",
    "calls_by_city = calls_by_city.append(nan_df)\n",
    "\n",
    "calls_by_city['Percent'] = calls_by_city['Count']/calls_by_city['Count'].sum()*100\n",
    "calls_by_city"
   ]
  },
  {
   "cell_type": "code",
   "execution_count": 25,
   "metadata": {
    "scrolled": false
   },
   "outputs": [
    {
     "data": {
      "image/png": "[encoded data removed]",
      "text/plain": [
       "<Figure size 720x720 with 1 Axes>"
      ]
     },
     "metadata": {
      "needs_background": "light"
     },
     "output_type": "display_data"
    }
   ],
   "source": [
    "fig = plt.figure(figsize = (10,10))\n",
    "ax  = fig.add_subplot(1,1,1)\n",
    "plt.barh(calls_by_city['City'].values[::-1],\n",
    "        calls_by_city['Percent'].values[::-1], color = 'lightgray', edgecolor = 'black')\n",
    "ax.tick_params(axis='both', which='major', labelsize=14)\n",
    "plt.xlabel('% of total calls', fontsize = 16)\n",
    "plt.ylabel('City', fontsize = 16)\n",
    "\n",
    "for i in range(len(calls_by_city['City'].values[::-1])):\n",
    "    plt.text(calls_by_city['Percent'].values[::-1][i]+1 , i , \n",
    "             round(calls_by_city['Percent'].values[::-1][i],1), fontsize = 12)\n",
    "    \n",
    "plt.xlim(0,105)\n",
    "plt.savefig ('../Plots/calls/Percent_all_calls_by_city.pdf', bbox_inches = 'tight')"
   ]
  },
  {
   "cell_type": "markdown",
   "metadata": {},
   "source": [
    "More than 96% of the calls are associated with addresses in the City of San Francisco. For the rest of the analysis, we will just focus on San Francisco service calls."
   ]
  },
  {
   "cell_type": "code",
   "execution_count": 26,
   "metadata": {},
   "outputs": [],
   "source": [
    "calls = calls.loc[calls['City'] == 'San Francisco']"
   ]
  },
  {
   "cell_type": "markdown",
   "metadata": {},
   "source": [
    "## Address Type and Common Location\n",
    "Here we take a look at distribution of calls by address type and by different common locations."
   ]
  },
  {
   "cell_type": "code",
   "execution_count": 27,
   "metadata": {
    "scrolled": true
   },
   "outputs": [
    {
     "data": {
      "text/plain": [
       "array(['Premise Address', 'Intersection', 'Common Location',\n",
       "       'Geo-Override'], dtype=object)"
      ]
     },
     "execution_count": 27,
     "metadata": {},
     "output_type": "execute_result"
    }
   ],
   "source": [
    "calls['Address Type'].unique()"
   ]
  },
  {
   "cell_type": "code",
   "execution_count": 28,
   "metadata": {},
   "outputs": [],
   "source": [
    "calls_by_address_type = calls.groupby('Address Type')['Crime Id'].count().sort_values(ascending = False).reset_index()\n",
    "calls_by_address_type.rename(columns = {'Crime Id':'Count'}, inplace = True)\n",
    "calls_by_address_type['Percent'] = calls_by_address_type['Count']/calls_by_address_type['Count'].sum()*100"
   ]
  },
  {
   "cell_type": "code",
   "execution_count": 29,
   "metadata": {
    "scrolled": false
   },
   "outputs": [
    {
     "data": {
      "image/png": "[encoded data removed]",
      "text/plain": [
       "<Figure size 720x432 with 1 Axes>"
      ]
     },
     "metadata": {
      "needs_background": "light"
     },
     "output_type": "display_data"
    }
   ],
   "source": [
    "fig = plt.figure(figsize = (10,6))\n",
    "ax  = fig.add_subplot(1,1,1)\n",
    "plt.barh(calls_by_address_type['Address Type'].values[::-1],\n",
    "        calls_by_address_type['Percent'].values[::-1], color = 'lightgray', edgecolor = 'black')\n",
    "ax.tick_params(axis='both', which='major', labelsize=14)\n",
    "plt.xlabel('% of total calls', fontsize = 16)\n",
    "plt.ylabel('Address Type', fontsize = 16)\n",
    "\n",
    "for i in range(len(calls_by_address_type['Address Type'].values[::-1])):\n",
    "    plt.text(calls_by_address_type['Percent'].values[::-1][i]+1 , i , \n",
    "             round(calls_by_address_type['Percent'].values[::-1][i],1), fontsize = 12)\n",
    "    \n",
    "plt.xlim(0,58)\n",
    "plt.savefig ('../Plots/calls/Percent_all_calls_by_address_type.pdf', bbox_inches = 'tight')"
   ]
  },
  {
   "cell_type": "markdown",
   "metadata": {},
   "source": [
    "We see that most of the calls are associated with Premise Addresses followed by Intersection and Common Locations. The dataset provides more information about which common locations the calls were associated with. Let's look at the most common common locations."
   ]
  },
  {
   "cell_type": "code",
   "execution_count": 30,
   "metadata": {},
   "outputs": [],
   "source": [
    "calls_common_location = calls.loc[calls['Address Type'] == 'Common Location']"
   ]
  },
  {
   "cell_type": "code",
   "execution_count": 31,
   "metadata": {},
   "outputs": [],
   "source": [
    "calls_common_location_by_location = calls_common_location.groupby('Common Location')['Crime Id'].count().sort_values(ascending = False).reset_index()"
   ]
  },
  {
   "cell_type": "code",
   "execution_count": 32,
   "metadata": {},
   "outputs": [],
   "source": [
    "calls_common_location_by_location.rename(columns = {'Crime Id':'Count'}, inplace = True)\n",
    "calls_common_location_by_location['Percent'] = calls_common_location_by_location['Count']/calls_common_location_by_location['Count'].sum()*100"
   ]
  },
  {
   "cell_type": "code",
   "execution_count": 33,
   "metadata": {
    "scrolled": false
   },
   "outputs": [
    {
     "data": {
      "image/png": "[encoded data removed]",
      "text/plain": [
       "<Figure size 720x720 with 1 Axes>"
      ]
     },
     "metadata": {
      "needs_background": "light"
     },
     "output_type": "display_data"
    }
   ],
   "source": [
    "fig = plt.figure(figsize = (10,10))\n",
    "ax  = fig.add_subplot(1,1,1)\n",
    "plt.barh(calls_common_location_by_location['Common Location'].values[0:15][::-1],\n",
    "        calls_common_location_by_location['Percent'].values[0:15][::-1], color = 'lightgray', edgecolor = 'black')\n",
    "ax.tick_params(axis='both', which='major', labelsize=14)\n",
    "plt.xlabel('% of total common location calls', fontsize = 16)\n",
    "plt.ylabel('Common Location', fontsize = 16)\n",
    "\n",
    "for i in range(len(calls_common_location_by_location['Common Location'].values[0:15][::-1])):\n",
    "    plt.text(calls_common_location_by_location['Percent'].values[0:15][::-1][i]+0.1 , i , \n",
    "             round(calls_common_location_by_location['Percent'].values[0:15][::-1][i],1), fontsize = 12)\n",
    "    \n",
    "plt.xlim(0,4)\n",
    "plt.savefig ('../Plots/calls/Percent_all_calls_by_CommonLocationType.pdf', bbox_inches = 'tight')"
   ]
  },
  {
   "cell_type": "markdown",
   "metadata": {},
   "source": [
    "Seems like some of the common locations refer to the same location but use different names. ex. Un Pz, sf and Un Pz. \n",
    "We will redo the analysis above by first converting the common addresses to upper case and removing the comma and city from the common location names. Note that at this point we are only analyzing San Francisco calls.  "
   ]
  },
  {
   "cell_type": "code",
   "execution_count": 34,
   "metadata": {},
   "outputs": [],
   "source": [
    "calls_common_location = calls.loc[calls['Address Type'] == 'Common Location']\n",
    "calls_common_location['Common Location'] = calls_common_location['Common Location'].apply(lambda x: x.upper().replace(', SF', ''))\n",
    "\n",
    "\n",
    "\n"
   ]
  },
  {
   "cell_type": "code",
   "execution_count": 35,
   "metadata": {},
   "outputs": [],
   "source": [
    "calls_common_location_by_location = calls_common_location.groupby('Common Location')['Crime Id'].count().sort_values(ascending = False).reset_index()\n",
    "calls_common_location_by_location.rename(columns = {'Crime Id':'Count'}, inplace = True)\n",
    "calls_common_location_by_location['Percent'] = calls_common_location_by_location['Count']/calls_common_location_by_location['Count'].sum()*100\n"
   ]
  },
  {
   "cell_type": "code",
   "execution_count": 36,
   "metadata": {},
   "outputs": [
    {
     "data": {
      "image/png": "[encoded data removed]",
      "text/plain": [
       "<Figure size 720x720 with 1 Axes>"
      ]
     },
     "metadata": {
      "needs_background": "light"
     },
     "output_type": "display_data"
    }
   ],
   "source": [
    "fig = plt.figure(figsize = (10,10))\n",
    "ax  = fig.add_subplot(1,1,1)\n",
    "plt.barh(calls_common_location_by_location['Common Location'].values[0:15][::-1],\n",
    "        calls_common_location_by_location['Percent'].values[0:15][::-1], color = 'lightgray', edgecolor = 'black')\n",
    "ax.tick_params(axis='both', which='major', labelsize=14)\n",
    "plt.xlabel('% of total common location calls', fontsize = 16)\n",
    "plt.ylabel('Common Location', fontsize = 16)\n",
    "\n",
    "for i in range(len(calls_common_location_by_location['Common Location'].values[0:15][::-1])):\n",
    "    plt.text(calls_common_location_by_location['Percent'].values[0:15][::-1][i]+0.05 , i , \n",
    "             round(calls_common_location_by_location['Percent'].values[0:15][::-1][i],1), fontsize = 12)\n",
    "    \n",
    "# plt.xlim(0,4)\n",
    "plt.savefig ('../Plots/calls/Percent_all_calls_by_CommonLocationTypeUpdated.pdf', bbox_inches = 'tight')"
   ]
  },
  {
   "cell_type": "markdown",
   "metadata": {},
   "source": [
    "We see that about 5% of all common location calls were related to Un Pz. "
   ]
  },
  {
   "cell_type": "markdown",
   "metadata": {},
   "source": [
    "## Disposition\n",
    "Now we'll look at distribution of calls by disposition. There are 37 different disposition types that here we'll take a look at the top 10. "
   ]
  },
  {
   "cell_type": "code",
   "execution_count": 37,
   "metadata": {},
   "outputs": [
    {
     "data": {
      "text/plain": [
       "array(['HAN', 'CAN', 'ADV', 'NOM', 'UTL', 'REP', 'GOA', 'Not recorded',\n",
       "       'CIT', 'ND', 'NCR', 'ARR', 'PAS', '22', 'ADM', 'ABA', 'GEN', 'INC',\n",
       "       'SFD', '47A', 'CRM', 'ENC', 'DUP', 'CLN', 'OTS', 'TOW', 'CHP',\n",
       "       'FIR', 'MAP', 'VAS', 'HOT', 'INS', 'OME', 'TH2', 'PDT', 'POL',\n",
       "       'CRT', 'TH3'], dtype=object)"
      ]
     },
     "execution_count": 37,
     "metadata": {},
     "output_type": "execute_result"
    }
   ],
   "source": [
    "calls['Disposition'].unique()"
   ]
  },
  {
   "cell_type": "code",
   "execution_count": 38,
   "metadata": {},
   "outputs": [],
   "source": [
    "calls_by_disposition = calls.groupby('Disposition')['Crime Id'].count().sort_values(ascending = False).reset_index()\n",
    "calls_by_disposition.rename(columns = {'Crime Id':'Count'}, inplace = True)\n",
    "calls_by_disposition['Percent'] = calls_by_disposition ['Count']/calls_by_disposition['Count'].sum()*100"
   ]
  },
  {
   "cell_type": "code",
   "execution_count": 39,
   "metadata": {},
   "outputs": [
    {
     "data": {
      "image/png": "[encoded data removed]",
      "text/plain": [
       "<Figure size 720x576 with 1 Axes>"
      ]
     },
     "metadata": {
      "needs_background": "light"
     },
     "output_type": "display_data"
    }
   ],
   "source": [
    "fig = plt.figure(figsize = (10,8))\n",
    "ax  = fig.add_subplot(1,1,1)\n",
    "plt.barh(calls_by_disposition['Disposition'].values[0:10][::-1],\n",
    "        calls_by_disposition['Percent'].values[0:10][::-1], color = 'lightgray', edgecolor = 'black')\n",
    "ax.tick_params(axis='both', which='major', labelsize=14)\n",
    "plt.xlabel('% of total calls', fontsize = 16)\n",
    "plt.ylabel('Disposition', fontsize = 16)\n",
    "\n",
    "for i in range(len(calls_by_disposition['Disposition'].values[0:10][::-1])):\n",
    "    plt.text(calls_by_disposition['Percent'].values[0:10][::-1][i]+0.1 , i , \n",
    "             round(calls_by_disposition['Percent'].values[0:10][::-1][i],1), fontsize = 12)\n",
    "    \n",
    "# plt.xlim(0,4)\n",
    "plt.savefig ('../Plots/calls/Percent_all_calls_by_Disposition.pdf', bbox_inches = 'tight')"
   ]
  },
  {
   "cell_type": "markdown",
   "metadata": {},
   "source": [
    "## Report Date, Call Date, Offense Date"
   ]
  },
  {
   "cell_type": "markdown",
   "metadata": {},
   "source": [
    "We will first convert report date, call date, and offense date to datetime objects. \n",
    "As a sanity check, we'll check to ensure that offense date <= call date <= report date. \n",
    "We will also check and see that call date + call time == call date time column."
   ]
  },
  {
   "cell_type": "code",
   "execution_count": 40,
   "metadata": {},
   "outputs": [],
   "source": [
    "calls['Report Date'] = pd.to_datetime(calls['Report Date'])\n",
    "calls['Call Date'] = pd.to_datetime(calls['Call Date'])\n",
    "calls['Offense Date'] = pd.to_datetime(calls['Offense Date'])\n",
    "calls['Call Date Time'] = pd.to_datetime(calls['Call Date Time'])"
   ]
  },
  {
   "cell_type": "code",
   "execution_count": 41,
   "metadata": {},
   "outputs": [
    {
     "data": {
      "text/plain": [
       "count    2935335.0\n",
       "mean           0.0\n",
       "std            0.0\n",
       "min            0.0\n",
       "25%            0.0\n",
       "50%            0.0\n",
       "75%            0.0\n",
       "max            0.0\n",
       "Name: call_offence_diff, dtype: float64"
      ]
     },
     "execution_count": 41,
     "metadata": {},
     "output_type": "execute_result"
    }
   ],
   "source": [
    "####### is call date larger than or equal to offence date?\n",
    "calls['call_offence_diff'] = calls['Call Date']-calls['Offense Date']\n",
    "calls['call_offence_diff'] = calls['call_offence_diff'].apply(lambda x: x.days)\n",
    "calls['call_offence_diff'].describe()"
   ]
  },
  {
   "cell_type": "markdown",
   "metadata": {},
   "source": [
    "All calls were placed on the same day as the offense."
   ]
  },
  {
   "cell_type": "code",
   "execution_count": 42,
   "metadata": {},
   "outputs": [
    {
     "data": {
      "text/plain": [
       "count    2935335.0\n",
       "mean           0.0\n",
       "std            0.0\n",
       "min            0.0\n",
       "25%            0.0\n",
       "50%            0.0\n",
       "75%            0.0\n",
       "max            0.0\n",
       "Name: report_call_diff, dtype: float64"
      ]
     },
     "execution_count": 42,
     "metadata": {},
     "output_type": "execute_result"
    }
   ],
   "source": [
    "####### is report date larger than or equal to call date?\n",
    "calls['report_call_diff'] = calls['Report Date'] - calls['Call Date']\n",
    "calls['report_call_diff'] = calls['report_call_diff'].apply(lambda x: x.days)\n",
    "calls['report_call_diff'].describe()"
   ]
  },
  {
   "cell_type": "markdown",
   "metadata": {},
   "source": [
    "All reports were made on the same day as the call.\n",
    "\n",
    "Now we check if call date + call time == call date time column."
   ]
  },
  {
   "cell_type": "code",
   "execution_count": 43,
   "metadata": {},
   "outputs": [],
   "source": [
    "calls['Date Plus Time'] = calls['Call Date'].astype(str)+' '+calls['Call Time']"
   ]
  },
  {
   "cell_type": "code",
   "execution_count": 44,
   "metadata": {},
   "outputs": [
    {
     "data": {
      "text/plain": [
       "Timedelta('0 days 00:00:00')"
      ]
     },
     "execution_count": 44,
     "metadata": {},
     "output_type": "execute_result"
    }
   ],
   "source": [
    "(pd.to_datetime(calls['Date Plus Time']) - calls['Call Date Time']).min()"
   ]
  },
  {
   "cell_type": "code",
   "execution_count": 45,
   "metadata": {},
   "outputs": [
    {
     "data": {
      "text/plain": [
       "Timedelta('0 days 00:00:00')"
      ]
     },
     "execution_count": 45,
     "metadata": {},
     "output_type": "execute_result"
    }
   ],
   "source": [
    "(pd.to_datetime(calls['Date Plus Time']) - calls['Call Date Time']).max()"
   ]
  },
  {
   "cell_type": "markdown",
   "metadata": {},
   "source": [
    "Therefore, call date + call time == call date time column.\n",
    "Let's remove the extra columns we added to the dataframe for these sanity checks."
   ]
  },
  {
   "cell_type": "code",
   "execution_count": 46,
   "metadata": {},
   "outputs": [],
   "source": [
    "calls.drop (['call_offence_diff', 'report_call_diff', 'Date Plus Time'], axis = 1 , inplace = True)"
   ]
  },
  {
   "cell_type": "code",
   "execution_count": 47,
   "metadata": {},
   "outputs": [
    {
     "name": "stdout",
     "output_type": "stream",
     "text": [
      "Date Time of the First Call in the Dataset: 2016-03-30 18:42:00\n",
      "Date Time of the Last Call in the Dataset: 2019-11-23 23:54:00\n"
     ]
    }
   ],
   "source": [
    "print ( 'Date Time of the First Call in the Dataset:', calls['Call Date Time'].min())\n",
    "print ( 'Date Time of the Last Call in the Dataset:', calls['Call Date Time'].max())"
   ]
  },
  {
   "cell_type": "markdown",
   "metadata": {},
   "source": [
    "## time-of-day distribution of calls:"
   ]
  },
  {
   "cell_type": "code",
   "execution_count": 48,
   "metadata": {},
   "outputs": [],
   "source": [
    "calls['Hour'] = calls['Call Date Time'].dt.hour"
   ]
  },
  {
   "cell_type": "code",
   "execution_count": 49,
   "metadata": {},
   "outputs": [],
   "source": [
    "##### Percent of Total calls in each hour\n",
    "total_calls_by_hour = calls.groupby('Hour')['Crime Id'].count().reset_index()\n",
    "total_calls_by_hour.rename(columns = {'Crime Id':'Count'}, inplace = True)\n",
    "total_calls_by_hour['Percent'] = total_calls_by_hour['Count']/total_calls_by_hour['Count'].sum()*100"
   ]
  },
  {
   "cell_type": "code",
   "execution_count": 50,
   "metadata": {},
   "outputs": [],
   "source": [
    "total_calls_by_hour.index = total_calls_by_hour['Hour']\n",
    "total_calls_by_hour.drop(['Hour','Count'], axis = 1, inplace = True)"
   ]
  },
  {
   "cell_type": "code",
   "execution_count": 51,
   "metadata": {},
   "outputs": [],
   "source": [
    "total_calls_by_hour = total_calls_by_hour.transpose()\n",
    "total_calls_by_hour.index = ['All Crime Types']\n"
   ]
  },
  {
   "cell_type": "code",
   "execution_count": 52,
   "metadata": {},
   "outputs": [
    {
     "data": {
      "text/html": [
       "<div>\n",
       "<style scoped>\n",
       "    .dataframe tbody tr th:only-of-type {\n",
       "        vertical-align: middle;\n",
       "    }\n",
       "\n",
       "    .dataframe tbody tr th {\n",
       "        vertical-align: top;\n",
       "    }\n",
       "\n",
       "    .dataframe thead th {\n",
       "        text-align: right;\n",
       "    }\n",
       "</style>\n",
       "<table border=\"1\" class=\"dataframe\">\n",
       "  <thead>\n",
       "    <tr style=\"text-align: right;\">\n",
       "      <th>Hour</th>\n",
       "      <th>0</th>\n",
       "      <th>1</th>\n",
       "      <th>2</th>\n",
       "      <th>3</th>\n",
       "      <th>4</th>\n",
       "      <th>5</th>\n",
       "      <th>6</th>\n",
       "      <th>7</th>\n",
       "      <th>8</th>\n",
       "      <th>9</th>\n",
       "      <th>...</th>\n",
       "      <th>14</th>\n",
       "      <th>15</th>\n",
       "      <th>16</th>\n",
       "      <th>17</th>\n",
       "      <th>18</th>\n",
       "      <th>19</th>\n",
       "      <th>20</th>\n",
       "      <th>21</th>\n",
       "      <th>22</th>\n",
       "      <th>23</th>\n",
       "    </tr>\n",
       "  </thead>\n",
       "  <tbody>\n",
       "    <tr>\n",
       "      <td>All Crime Types</td>\n",
       "      <td>2.927162</td>\n",
       "      <td>2.275549</td>\n",
       "      <td>1.949352</td>\n",
       "      <td>1.497001</td>\n",
       "      <td>1.327446</td>\n",
       "      <td>1.381546</td>\n",
       "      <td>2.221007</td>\n",
       "      <td>4.034599</td>\n",
       "      <td>4.815328</td>\n",
       "      <td>5.144932</td>\n",
       "      <td>...</td>\n",
       "      <td>5.125684</td>\n",
       "      <td>5.228568</td>\n",
       "      <td>6.631304</td>\n",
       "      <td>6.818404</td>\n",
       "      <td>6.24157</td>\n",
       "      <td>5.111989</td>\n",
       "      <td>4.135405</td>\n",
       "      <td>4.03511</td>\n",
       "      <td>4.417281</td>\n",
       "      <td>3.785088</td>\n",
       "    </tr>\n",
       "  </tbody>\n",
       "</table>\n",
       "<p>1 rows × 24 columns</p>\n",
       "</div>"
      ],
      "text/plain": [
       "Hour                   0         1         2         3         4         5   \\\n",
       "All Crime Types  2.927162  2.275549  1.949352  1.497001  1.327446  1.381546   \n",
       "\n",
       "Hour                   6         7         8         9   ...        14  \\\n",
       "All Crime Types  2.221007  4.034599  4.815328  5.144932  ...  5.125684   \n",
       "\n",
       "Hour                   15        16        17       18        19        20  \\\n",
       "All Crime Types  5.228568  6.631304  6.818404  6.24157  5.111989  4.135405   \n",
       "\n",
       "Hour                  21        22        23  \n",
       "All Crime Types  4.03511  4.417281  3.785088  \n",
       "\n",
       "[1 rows x 24 columns]"
      ]
     },
     "execution_count": 52,
     "metadata": {},
     "output_type": "execute_result"
    }
   ],
   "source": [
    "total_calls_by_hour.head()"
   ]
  },
  {
   "cell_type": "code",
   "execution_count": 53,
   "metadata": {},
   "outputs": [],
   "source": [
    "##### Percent of Total calls in each hour for the top 15 crime types"
   ]
  },
  {
   "cell_type": "code",
   "execution_count": 54,
   "metadata": {},
   "outputs": [],
   "source": [
    "calls_top15_crime_types = calls.loc[calls['Original Crime Type Name'].isin(Top_15_Crime_Types)]\n",
    "total_calls_by_type_by_hour = calls_top15_crime_types.groupby(['Original Crime Type Name','Hour'])['Crime Id'].count().unstack()"
   ]
  },
  {
   "cell_type": "code",
   "execution_count": 55,
   "metadata": {},
   "outputs": [],
   "source": [
    "total_calls_by_type_by_hour['total'] = total_calls_by_type_by_hour.sum(axis = 1)\n",
    "total_calls_by_type_by_hour.sort_values('total', inplace = True, ascending = False)"
   ]
  },
  {
   "cell_type": "code",
   "execution_count": 56,
   "metadata": {},
   "outputs": [
    {
     "data": {
      "text/html": [
       "<div>\n",
       "<style scoped>\n",
       "    .dataframe tbody tr th:only-of-type {\n",
       "        vertical-align: middle;\n",
       "    }\n",
       "\n",
       "    .dataframe tbody tr th {\n",
       "        vertical-align: top;\n",
       "    }\n",
       "\n",
       "    .dataframe thead th {\n",
       "        text-align: right;\n",
       "    }\n",
       "</style>\n",
       "<table border=\"1\" class=\"dataframe\">\n",
       "  <thead>\n",
       "    <tr style=\"text-align: right;\">\n",
       "      <th>Hour</th>\n",
       "      <th>0</th>\n",
       "      <th>1</th>\n",
       "      <th>2</th>\n",
       "      <th>3</th>\n",
       "      <th>4</th>\n",
       "      <th>5</th>\n",
       "      <th>6</th>\n",
       "      <th>7</th>\n",
       "      <th>8</th>\n",
       "      <th>9</th>\n",
       "      <th>...</th>\n",
       "      <th>15</th>\n",
       "      <th>16</th>\n",
       "      <th>17</th>\n",
       "      <th>18</th>\n",
       "      <th>19</th>\n",
       "      <th>20</th>\n",
       "      <th>21</th>\n",
       "      <th>22</th>\n",
       "      <th>23</th>\n",
       "      <th>total</th>\n",
       "    </tr>\n",
       "    <tr>\n",
       "      <th>Original Crime Type Name</th>\n",
       "      <th></th>\n",
       "      <th></th>\n",
       "      <th></th>\n",
       "      <th></th>\n",
       "      <th></th>\n",
       "      <th></th>\n",
       "      <th></th>\n",
       "      <th></th>\n",
       "      <th></th>\n",
       "      <th></th>\n",
       "      <th></th>\n",
       "      <th></th>\n",
       "      <th></th>\n",
       "      <th></th>\n",
       "      <th></th>\n",
       "      <th></th>\n",
       "      <th></th>\n",
       "      <th></th>\n",
       "      <th></th>\n",
       "      <th></th>\n",
       "      <th></th>\n",
       "    </tr>\n",
       "  </thead>\n",
       "  <tbody>\n",
       "    <tr>\n",
       "      <td>Passing Call</td>\n",
       "      <td>9903.0</td>\n",
       "      <td>7564.0</td>\n",
       "      <td>5217.0</td>\n",
       "      <td>4967.0</td>\n",
       "      <td>5392.0</td>\n",
       "      <td>4413.0</td>\n",
       "      <td>7232.0</td>\n",
       "      <td>17076.0</td>\n",
       "      <td>17927.0</td>\n",
       "      <td>19655.0</td>\n",
       "      <td>...</td>\n",
       "      <td>18513.0</td>\n",
       "      <td>31992.0</td>\n",
       "      <td>31497.0</td>\n",
       "      <td>26253.0</td>\n",
       "      <td>18007.0</td>\n",
       "      <td>9397.0</td>\n",
       "      <td>10690.0</td>\n",
       "      <td>16974.0</td>\n",
       "      <td>14280.0</td>\n",
       "      <td>382519.0</td>\n",
       "    </tr>\n",
       "    <tr>\n",
       "      <td>Traffic Stop</td>\n",
       "      <td>9722.0</td>\n",
       "      <td>5161.0</td>\n",
       "      <td>3535.0</td>\n",
       "      <td>2454.0</td>\n",
       "      <td>2640.0</td>\n",
       "      <td>2216.0</td>\n",
       "      <td>2414.0</td>\n",
       "      <td>9124.0</td>\n",
       "      <td>13428.0</td>\n",
       "      <td>14432.0</td>\n",
       "      <td>...</td>\n",
       "      <td>16512.0</td>\n",
       "      <td>25621.0</td>\n",
       "      <td>24522.0</td>\n",
       "      <td>17919.0</td>\n",
       "      <td>12847.0</td>\n",
       "      <td>8459.0</td>\n",
       "      <td>10137.0</td>\n",
       "      <td>17043.0</td>\n",
       "      <td>14663.0</td>\n",
       "      <td>282529.0</td>\n",
       "    </tr>\n",
       "    <tr>\n",
       "      <td>Suspicious Person</td>\n",
       "      <td>4857.0</td>\n",
       "      <td>3638.0</td>\n",
       "      <td>2970.0</td>\n",
       "      <td>2463.0</td>\n",
       "      <td>1949.0</td>\n",
       "      <td>1523.0</td>\n",
       "      <td>2344.0</td>\n",
       "      <td>4965.0</td>\n",
       "      <td>5758.0</td>\n",
       "      <td>6484.0</td>\n",
       "      <td>...</td>\n",
       "      <td>9658.0</td>\n",
       "      <td>10283.0</td>\n",
       "      <td>9714.0</td>\n",
       "      <td>8469.0</td>\n",
       "      <td>7367.0</td>\n",
       "      <td>5472.0</td>\n",
       "      <td>5095.0</td>\n",
       "      <td>5958.0</td>\n",
       "      <td>5931.0</td>\n",
       "      <td>150781.0</td>\n",
       "    </tr>\n",
       "    <tr>\n",
       "      <td>Homeless Complaint</td>\n",
       "      <td>1689.0</td>\n",
       "      <td>1184.0</td>\n",
       "      <td>915.0</td>\n",
       "      <td>1046.0</td>\n",
       "      <td>1848.0</td>\n",
       "      <td>4703.0</td>\n",
       "      <td>9576.0</td>\n",
       "      <td>14993.0</td>\n",
       "      <td>13652.0</td>\n",
       "      <td>12513.0</td>\n",
       "      <td>...</td>\n",
       "      <td>5555.0</td>\n",
       "      <td>5997.0</td>\n",
       "      <td>5410.0</td>\n",
       "      <td>4819.0</td>\n",
       "      <td>4393.0</td>\n",
       "      <td>3503.0</td>\n",
       "      <td>3219.0</td>\n",
       "      <td>2796.0</td>\n",
       "      <td>2256.0</td>\n",
       "      <td>140739.0</td>\n",
       "    </tr>\n",
       "    <tr>\n",
       "      <td>22500e</td>\n",
       "      <td>18.0</td>\n",
       "      <td>NaN</td>\n",
       "      <td>2.0</td>\n",
       "      <td>1.0</td>\n",
       "      <td>4.0</td>\n",
       "      <td>16.0</td>\n",
       "      <td>2422.0</td>\n",
       "      <td>4259.0</td>\n",
       "      <td>5532.0</td>\n",
       "      <td>6047.0</td>\n",
       "      <td>...</td>\n",
       "      <td>5451.0</td>\n",
       "      <td>7115.0</td>\n",
       "      <td>7744.0</td>\n",
       "      <td>8760.0</td>\n",
       "      <td>8674.0</td>\n",
       "      <td>6932.0</td>\n",
       "      <td>5607.0</td>\n",
       "      <td>4080.0</td>\n",
       "      <td>2063.0</td>\n",
       "      <td>104161.0</td>\n",
       "    </tr>\n",
       "  </tbody>\n",
       "</table>\n",
       "<p>5 rows × 25 columns</p>\n",
       "</div>"
      ],
      "text/plain": [
       "Hour                           0       1       2       3       4       5  \\\n",
       "Original Crime Type Name                                                   \n",
       "Passing Call              9903.0  7564.0  5217.0  4967.0  5392.0  4413.0   \n",
       "Traffic Stop              9722.0  5161.0  3535.0  2454.0  2640.0  2216.0   \n",
       "Suspicious Person         4857.0  3638.0  2970.0  2463.0  1949.0  1523.0   \n",
       "Homeless Complaint        1689.0  1184.0   915.0  1046.0  1848.0  4703.0   \n",
       "22500e                      18.0     NaN     2.0     1.0     4.0    16.0   \n",
       "\n",
       "Hour                           6        7        8        9  ...       15  \\\n",
       "Original Crime Type Name                                     ...            \n",
       "Passing Call              7232.0  17076.0  17927.0  19655.0  ...  18513.0   \n",
       "Traffic Stop              2414.0   9124.0  13428.0  14432.0  ...  16512.0   \n",
       "Suspicious Person         2344.0   4965.0   5758.0   6484.0  ...   9658.0   \n",
       "Homeless Complaint        9576.0  14993.0  13652.0  12513.0  ...   5555.0   \n",
       "22500e                    2422.0   4259.0   5532.0   6047.0  ...   5451.0   \n",
       "\n",
       "Hour                           16       17       18       19      20       21  \\\n",
       "Original Crime Type Name                                                        \n",
       "Passing Call              31992.0  31497.0  26253.0  18007.0  9397.0  10690.0   \n",
       "Traffic Stop              25621.0  24522.0  17919.0  12847.0  8459.0  10137.0   \n",
       "Suspicious Person         10283.0   9714.0   8469.0   7367.0  5472.0   5095.0   \n",
       "Homeless Complaint         5997.0   5410.0   4819.0   4393.0  3503.0   3219.0   \n",
       "22500e                     7115.0   7744.0   8760.0   8674.0  6932.0   5607.0   \n",
       "\n",
       "Hour                           22       23     total  \n",
       "Original Crime Type Name                              \n",
       "Passing Call              16974.0  14280.0  382519.0  \n",
       "Traffic Stop              17043.0  14663.0  282529.0  \n",
       "Suspicious Person          5958.0   5931.0  150781.0  \n",
       "Homeless Complaint         2796.0   2256.0  140739.0  \n",
       "22500e                     4080.0   2063.0  104161.0  \n",
       "\n",
       "[5 rows x 25 columns]"
      ]
     },
     "execution_count": 56,
     "metadata": {},
     "output_type": "execute_result"
    }
   ],
   "source": [
    "total_calls_by_type_by_hour.head()"
   ]
  },
  {
   "cell_type": "code",
   "execution_count": 57,
   "metadata": {},
   "outputs": [],
   "source": [
    "total_calls_by_type_by_hour_Fraction = total_calls_by_type_by_hour.div(total_calls_by_type_by_hour['total'], axis = 0)*100"
   ]
  },
  {
   "cell_type": "code",
   "execution_count": 58,
   "metadata": {},
   "outputs": [],
   "source": [
    "total_calls_by_type_by_hour_Fraction.drop(['total'], axis = 1, inplace = True)"
   ]
  },
  {
   "cell_type": "code",
   "execution_count": 59,
   "metadata": {
    "scrolled": true
   },
   "outputs": [
    {
     "data": {
      "text/html": [
       "<div>\n",
       "<style scoped>\n",
       "    .dataframe tbody tr th:only-of-type {\n",
       "        vertical-align: middle;\n",
       "    }\n",
       "\n",
       "    .dataframe tbody tr th {\n",
       "        vertical-align: top;\n",
       "    }\n",
       "\n",
       "    .dataframe thead th {\n",
       "        text-align: right;\n",
       "    }\n",
       "</style>\n",
       "<table border=\"1\" class=\"dataframe\">\n",
       "  <thead>\n",
       "    <tr style=\"text-align: right;\">\n",
       "      <th>Hour</th>\n",
       "      <th>0</th>\n",
       "      <th>1</th>\n",
       "      <th>2</th>\n",
       "      <th>3</th>\n",
       "      <th>4</th>\n",
       "      <th>5</th>\n",
       "      <th>6</th>\n",
       "      <th>7</th>\n",
       "      <th>8</th>\n",
       "      <th>9</th>\n",
       "      <th>...</th>\n",
       "      <th>14</th>\n",
       "      <th>15</th>\n",
       "      <th>16</th>\n",
       "      <th>17</th>\n",
       "      <th>18</th>\n",
       "      <th>19</th>\n",
       "      <th>20</th>\n",
       "      <th>21</th>\n",
       "      <th>22</th>\n",
       "      <th>23</th>\n",
       "    </tr>\n",
       "    <tr>\n",
       "      <th>Original Crime Type Name</th>\n",
       "      <th></th>\n",
       "      <th></th>\n",
       "      <th></th>\n",
       "      <th></th>\n",
       "      <th></th>\n",
       "      <th></th>\n",
       "      <th></th>\n",
       "      <th></th>\n",
       "      <th></th>\n",
       "      <th></th>\n",
       "      <th></th>\n",
       "      <th></th>\n",
       "      <th></th>\n",
       "      <th></th>\n",
       "      <th></th>\n",
       "      <th></th>\n",
       "      <th></th>\n",
       "      <th></th>\n",
       "      <th></th>\n",
       "      <th></th>\n",
       "      <th></th>\n",
       "    </tr>\n",
       "  </thead>\n",
       "  <tbody>\n",
       "    <tr>\n",
       "      <td>Passing Call</td>\n",
       "      <td>2.588891</td>\n",
       "      <td>1.977418</td>\n",
       "      <td>1.363854</td>\n",
       "      <td>1.298498</td>\n",
       "      <td>1.409603</td>\n",
       "      <td>1.153668</td>\n",
       "      <td>1.890625</td>\n",
       "      <td>4.464092</td>\n",
       "      <td>4.686565</td>\n",
       "      <td>5.138307</td>\n",
       "      <td>...</td>\n",
       "      <td>5.163665</td>\n",
       "      <td>4.839760</td>\n",
       "      <td>8.363506</td>\n",
       "      <td>8.234101</td>\n",
       "      <td>6.863188</td>\n",
       "      <td>4.707479</td>\n",
       "      <td>2.456610</td>\n",
       "      <td>2.794632</td>\n",
       "      <td>4.437427</td>\n",
       "      <td>3.733148</td>\n",
       "    </tr>\n",
       "    <tr>\n",
       "      <td>Traffic Stop</td>\n",
       "      <td>3.441063</td>\n",
       "      <td>1.826715</td>\n",
       "      <td>1.251199</td>\n",
       "      <td>0.868583</td>\n",
       "      <td>0.934417</td>\n",
       "      <td>0.784344</td>\n",
       "      <td>0.854426</td>\n",
       "      <td>3.229403</td>\n",
       "      <td>4.752786</td>\n",
       "      <td>5.108148</td>\n",
       "      <td>...</td>\n",
       "      <td>5.196989</td>\n",
       "      <td>5.844356</td>\n",
       "      <td>9.068450</td>\n",
       "      <td>8.679463</td>\n",
       "      <td>6.342358</td>\n",
       "      <td>4.547144</td>\n",
       "      <td>2.994029</td>\n",
       "      <td>3.587950</td>\n",
       "      <td>6.032301</td>\n",
       "      <td>5.189910</td>\n",
       "    </tr>\n",
       "    <tr>\n",
       "      <td>Suspicious Person</td>\n",
       "      <td>3.221228</td>\n",
       "      <td>2.412771</td>\n",
       "      <td>1.969744</td>\n",
       "      <td>1.633495</td>\n",
       "      <td>1.292603</td>\n",
       "      <td>1.010074</td>\n",
       "      <td>1.554573</td>\n",
       "      <td>3.292855</td>\n",
       "      <td>3.818784</td>\n",
       "      <td>4.300277</td>\n",
       "      <td>...</td>\n",
       "      <td>6.635451</td>\n",
       "      <td>6.405316</td>\n",
       "      <td>6.819825</td>\n",
       "      <td>6.442456</td>\n",
       "      <td>5.616755</td>\n",
       "      <td>4.885894</td>\n",
       "      <td>3.629104</td>\n",
       "      <td>3.379073</td>\n",
       "      <td>3.951426</td>\n",
       "      <td>3.933519</td>\n",
       "    </tr>\n",
       "    <tr>\n",
       "      <td>Homeless Complaint</td>\n",
       "      <td>1.200094</td>\n",
       "      <td>0.841274</td>\n",
       "      <td>0.650140</td>\n",
       "      <td>0.743220</td>\n",
       "      <td>1.313069</td>\n",
       "      <td>3.341647</td>\n",
       "      <td>6.804084</td>\n",
       "      <td>10.653053</td>\n",
       "      <td>9.700225</td>\n",
       "      <td>8.890926</td>\n",
       "      <td>...</td>\n",
       "      <td>4.236921</td>\n",
       "      <td>3.947023</td>\n",
       "      <td>4.261079</td>\n",
       "      <td>3.843995</td>\n",
       "      <td>3.424069</td>\n",
       "      <td>3.121381</td>\n",
       "      <td>2.489004</td>\n",
       "      <td>2.287212</td>\n",
       "      <td>1.986656</td>\n",
       "      <td>1.602967</td>\n",
       "    </tr>\n",
       "    <tr>\n",
       "      <td>22500e</td>\n",
       "      <td>0.017281</td>\n",
       "      <td>NaN</td>\n",
       "      <td>0.001920</td>\n",
       "      <td>0.000960</td>\n",
       "      <td>0.003840</td>\n",
       "      <td>0.015361</td>\n",
       "      <td>2.325246</td>\n",
       "      <td>4.088862</td>\n",
       "      <td>5.311009</td>\n",
       "      <td>5.805436</td>\n",
       "      <td>...</td>\n",
       "      <td>5.488619</td>\n",
       "      <td>5.233245</td>\n",
       "      <td>6.830772</td>\n",
       "      <td>7.434644</td>\n",
       "      <td>8.410058</td>\n",
       "      <td>8.327493</td>\n",
       "      <td>6.655082</td>\n",
       "      <td>5.383013</td>\n",
       "      <td>3.917013</td>\n",
       "      <td>1.980588</td>\n",
       "    </tr>\n",
       "  </tbody>\n",
       "</table>\n",
       "<p>5 rows × 24 columns</p>\n",
       "</div>"
      ],
      "text/plain": [
       "Hour                            0         1         2         3         4   \\\n",
       "Original Crime Type Name                                                     \n",
       "Passing Call              2.588891  1.977418  1.363854  1.298498  1.409603   \n",
       "Traffic Stop              3.441063  1.826715  1.251199  0.868583  0.934417   \n",
       "Suspicious Person         3.221228  2.412771  1.969744  1.633495  1.292603   \n",
       "Homeless Complaint        1.200094  0.841274  0.650140  0.743220  1.313069   \n",
       "22500e                    0.017281       NaN  0.001920  0.000960  0.003840   \n",
       "\n",
       "Hour                            5         6          7         8         9   \\\n",
       "Original Crime Type Name                                                      \n",
       "Passing Call              1.153668  1.890625   4.464092  4.686565  5.138307   \n",
       "Traffic Stop              0.784344  0.854426   3.229403  4.752786  5.108148   \n",
       "Suspicious Person         1.010074  1.554573   3.292855  3.818784  4.300277   \n",
       "Homeless Complaint        3.341647  6.804084  10.653053  9.700225  8.890926   \n",
       "22500e                    0.015361  2.325246   4.088862  5.311009  5.805436   \n",
       "\n",
       "Hour                      ...        14        15        16        17  \\\n",
       "Original Crime Type Name  ...                                           \n",
       "Passing Call              ...  5.163665  4.839760  8.363506  8.234101   \n",
       "Traffic Stop              ...  5.196989  5.844356  9.068450  8.679463   \n",
       "Suspicious Person         ...  6.635451  6.405316  6.819825  6.442456   \n",
       "Homeless Complaint        ...  4.236921  3.947023  4.261079  3.843995   \n",
       "22500e                    ...  5.488619  5.233245  6.830772  7.434644   \n",
       "\n",
       "Hour                            18        19        20        21        22  \\\n",
       "Original Crime Type Name                                                     \n",
       "Passing Call              6.863188  4.707479  2.456610  2.794632  4.437427   \n",
       "Traffic Stop              6.342358  4.547144  2.994029  3.587950  6.032301   \n",
       "Suspicious Person         5.616755  4.885894  3.629104  3.379073  3.951426   \n",
       "Homeless Complaint        3.424069  3.121381  2.489004  2.287212  1.986656   \n",
       "22500e                    8.410058  8.327493  6.655082  5.383013  3.917013   \n",
       "\n",
       "Hour                            23  \n",
       "Original Crime Type Name            \n",
       "Passing Call              3.733148  \n",
       "Traffic Stop              5.189910  \n",
       "Suspicious Person         3.933519  \n",
       "Homeless Complaint        1.602967  \n",
       "22500e                    1.980588  \n",
       "\n",
       "[5 rows x 24 columns]"
      ]
     },
     "execution_count": 59,
     "metadata": {},
     "output_type": "execute_result"
    }
   ],
   "source": [
    "total_calls_by_type_by_hour_Fraction.head()"
   ]
  },
  {
   "cell_type": "code",
   "execution_count": 60,
   "metadata": {},
   "outputs": [],
   "source": [
    "total_calls_by_type_by_hour_Fraction = total_calls_by_type_by_hour_Fraction.append(total_calls_by_hour)"
   ]
  },
  {
   "cell_type": "code",
   "execution_count": 61,
   "metadata": {},
   "outputs": [],
   "source": [
    "total_calls_by_type_by_hour_Fraction = total_calls_by_type_by_hour_Fraction.fillna(0)"
   ]
  },
  {
   "cell_type": "code",
   "execution_count": 62,
   "metadata": {
    "scrolled": false
   },
   "outputs": [
    {
     "data": {
      "image/png": "[encoded data removed]",
      "text/plain": [
       "<Figure size 1080x720 with 2 Axes>"
      ]
     },
     "metadata": {
      "needs_background": "light"
     },
     "output_type": "display_data"
    }
   ],
   "source": [
    "fig = plt.figure(figsize = (15,10))\n",
    "ax = fig.add_subplot(1,1,1)\n",
    "cbar_kws = {\n",
    "            'extend':'max'\n",
    "           }\n",
    "sns.heatmap(total_calls_by_type_by_hour_Fraction , cmap=\"Blues\",linewidth = 1, vmin = 0, vmax = 15, cbar_kws = cbar_kws)\n",
    "ax.tick_params(axis='both', which='major', labelsize=14)\n",
    "plt.xlabel ('Hour' , fontsize = 16)\n",
    "plt.ylabel ('Crime Type', fontsize = 16)\n",
    "cax = plt.gcf().axes[-1]\n",
    "cax.tick_params(labelsize=14)\n",
    "bottom, top = ax.get_ylim()\n",
    "ax.set_ylim(bottom + 0.5, top - 0.5)\n",
    "plt.title('Normalized Distribution of Calls by Time of Day\\n', fontsize = 18 , fontweight = 'bold')\n",
    "plt.savefig ('../Plots/calls/Hourly_Distribution_all_calls_by_type.pdf', bbox_inches = 'tight')"
   ]
  },
  {
   "cell_type": "markdown",
   "metadata": {},
   "source": [
    "## Day of Week Distribution of calls "
   ]
  },
  {
   "cell_type": "code",
   "execution_count": 63,
   "metadata": {},
   "outputs": [
    {
     "data": {
      "text/plain": [
       "Index(['Crime Id', 'Original Crime Type Name', 'Report Date', 'Call Date',\n",
       "       'Offense Date', 'Call Time', 'Call Date Time', 'Disposition', 'Address',\n",
       "       'City', 'State', 'Agency Id', 'Address Type', 'Common Location',\n",
       "       'Hour'],\n",
       "      dtype='object')"
      ]
     },
     "execution_count": 63,
     "metadata": {},
     "output_type": "execute_result"
    }
   ],
   "source": [
    "calls.columns"
   ]
  },
  {
   "cell_type": "code",
   "execution_count": 64,
   "metadata": {},
   "outputs": [],
   "source": [
    "calls['DayOfWeek'] = calls['Call Date Time'].apply(lambda x: x.weekday()) ### Monday = 0, Sunday = 6"
   ]
  },
  {
   "cell_type": "code",
   "execution_count": 65,
   "metadata": {},
   "outputs": [],
   "source": [
    "total_calls_by_DayOfWeek = calls.groupby('DayOfWeek')['Crime Id'].count().reset_index()\n"
   ]
  },
  {
   "cell_type": "code",
   "execution_count": 66,
   "metadata": {},
   "outputs": [],
   "source": [
    "total_calls_by_DayOfWeek.rename(columns = {'Crime Id':'Count'}, inplace = True)\n",
    "total_calls_by_DayOfWeek['Percent'] = total_calls_by_DayOfWeek['Count']/total_calls_by_DayOfWeek['Count'].sum()*100\n",
    "total_calls_by_DayOfWeek.index = total_calls_by_DayOfWeek['DayOfWeek']\n",
    "total_calls_by_DayOfWeek.drop(['DayOfWeek','Count'], axis = 1, inplace = True)"
   ]
  },
  {
   "cell_type": "code",
   "execution_count": 67,
   "metadata": {
    "scrolled": true
   },
   "outputs": [
    {
     "data": {
      "text/html": [
       "<div>\n",
       "<style scoped>\n",
       "    .dataframe tbody tr th:only-of-type {\n",
       "        vertical-align: middle;\n",
       "    }\n",
       "\n",
       "    .dataframe tbody tr th {\n",
       "        vertical-align: top;\n",
       "    }\n",
       "\n",
       "    .dataframe thead th {\n",
       "        text-align: right;\n",
       "    }\n",
       "</style>\n",
       "<table border=\"1\" class=\"dataframe\">\n",
       "  <thead>\n",
       "    <tr style=\"text-align: right;\">\n",
       "      <th>DayOfWeek</th>\n",
       "      <th>0</th>\n",
       "      <th>1</th>\n",
       "      <th>2</th>\n",
       "      <th>3</th>\n",
       "      <th>4</th>\n",
       "      <th>5</th>\n",
       "      <th>6</th>\n",
       "    </tr>\n",
       "  </thead>\n",
       "  <tbody>\n",
       "    <tr>\n",
       "      <td>All Crime Types</td>\n",
       "      <td>14.172079</td>\n",
       "      <td>14.460189</td>\n",
       "      <td>14.84328</td>\n",
       "      <td>14.486728</td>\n",
       "      <td>14.547539</td>\n",
       "      <td>14.222533</td>\n",
       "      <td>13.267651</td>\n",
       "    </tr>\n",
       "  </tbody>\n",
       "</table>\n",
       "</div>"
      ],
      "text/plain": [
       "DayOfWeek                0          1         2          3          4  \\\n",
       "All Crime Types  14.172079  14.460189  14.84328  14.486728  14.547539   \n",
       "\n",
       "DayOfWeek                5          6  \n",
       "All Crime Types  14.222533  13.267651  "
      ]
     },
     "execution_count": 67,
     "metadata": {},
     "output_type": "execute_result"
    }
   ],
   "source": [
    "\n",
    "total_calls_by_DayOfWeek = total_calls_by_DayOfWeek.transpose()\n",
    "total_calls_by_DayOfWeek.index = ['All Crime Types']\n",
    "total_calls_by_DayOfWeek.head()\n",
    "\n",
    "\n",
    "\n"
   ]
  },
  {
   "cell_type": "code",
   "execution_count": 68,
   "metadata": {},
   "outputs": [],
   "source": [
    "calls_top15_crime_types = calls.loc[calls['Original Crime Type Name'].isin(Top_15_Crime_Types)]\n",
    "total_calls_by_type_by_DayOfWeek = calls_top15_crime_types.groupby(['Original Crime Type Name','DayOfWeek'])['Crime Id'].count().unstack()\n",
    "total_calls_by_type_by_DayOfWeek['total'] = total_calls_by_type_by_DayOfWeek.sum(axis = 1)\n",
    "total_calls_by_type_by_DayOfWeek.sort_values('total', inplace = True, ascending = False)\n",
    "total_calls_by_type_by_DayOfWeek_Fraction = total_calls_by_type_by_DayOfWeek.div(total_calls_by_type_by_DayOfWeek['total'], axis = 0)*100\n",
    "total_calls_by_type_by_DayOfWeek_Fraction.drop(['total'], axis = 1, inplace = True)\n",
    "total_calls_by_type_by_DayOfWeek_Fraction = total_calls_by_type_by_DayOfWeek_Fraction.append(total_calls_by_DayOfWeek)\n",
    "total_calls_by_type_by_DayOfWeek_Fraction = total_calls_by_type_by_DayOfWeek_Fraction.fillna(0)\n"
   ]
  },
  {
   "cell_type": "code",
   "execution_count": 69,
   "metadata": {},
   "outputs": [
    {
     "data": {
      "image/png": "[encoded data removed]",
      "text/plain": [
       "<Figure size 432x720 with 2 Axes>"
      ]
     },
     "metadata": {
      "needs_background": "light"
     },
     "output_type": "display_data"
    }
   ],
   "source": [
    "fig = plt.figure(figsize = (6,10))\n",
    "ax = fig.add_subplot(1,1,1)\n",
    "cbar_kws = {\n",
    "            'extend':'max'\n",
    "           }\n",
    "sns.heatmap(total_calls_by_type_by_DayOfWeek_Fraction , cmap=\"Blues\",linewidth = 1, cbar_kws = cbar_kws,\n",
    "           vmin = 10, vmax = 20)\n",
    "ax.tick_params(axis='both', which='major', labelsize=14)\n",
    "plt.xlabel ('Day of Week' , fontsize = 16)\n",
    "plt.ylabel ('Crime Type', fontsize = 16)\n",
    "cax = plt.gcf().axes[-1]\n",
    "cax.tick_params(labelsize=14)\n",
    "bottom, top = ax.get_ylim()\n",
    "ax.set_ylim(bottom + 0.5, top - 0.5)\n",
    "plt.title('Normalized Distribution of Calls by Day of Week\\n', fontsize = 18 , fontweight = 'bold')\n",
    "plt.xticks ([0.5,1.5,2.5,3.5,4.5,5.5,6.5], ['Mon','Tue','Wed','Thu','Fri','Sat','Sun'])\n",
    "plt.savefig ('../Plots/calls/DailyDistribution_all_calls_by_type.pdf', bbox_inches = 'tight')"
   ]
  },
  {
   "cell_type": "markdown",
   "metadata": {},
   "source": [
    "## What day of week had the most average daily calls for service in July 2018?"
   ]
  },
  {
   "cell_type": "code",
   "execution_count": 70,
   "metadata": {},
   "outputs": [],
   "source": [
    "calls_July_2018 = calls.loc[(calls['Call Date Time'].dt.year == 2018)&(calls['Call Date Time'].dt.month == 7)]"
   ]
  },
  {
   "cell_type": "code",
   "execution_count": 71,
   "metadata": {},
   "outputs": [],
   "source": [
    "### Total number of calls each day in July 2018\n",
    "calls_July_2018_by_DayOfWeek = calls_July_2018.groupby('DayOfWeek')['Crime Id'].count()"
   ]
  },
  {
   "cell_type": "code",
   "execution_count": 72,
   "metadata": {},
   "outputs": [],
   "source": [
    "### How many of each day exists in July 2018? \n",
    "start_date = '2018-07-01'\n",
    "end_date = '2018-07-31'\n",
    "idx = pd.date_range(pd.to_datetime(start_date) , pd.to_datetime(end_date))\n",
    "July_dates_df = pd.DataFrame()\n",
    "July_dates_df['date'] = idx\n",
    "July_dates_df['DayOfWeek'] = July_dates_df['date'].apply(lambda x: x.weekday())\n",
    "\n",
    "July_dates_grouped = July_dates_df.groupby('DayOfWeek')['date'].count()\n"
   ]
  },
  {
   "cell_type": "code",
   "execution_count": 73,
   "metadata": {},
   "outputs": [],
   "source": [
    "calls_July_2018_by_DayOfWeek_Normalized = calls_July_2018_by_DayOfWeek/July_dates_grouped"
   ]
  },
  {
   "cell_type": "code",
   "execution_count": 74,
   "metadata": {},
   "outputs": [
    {
     "data": {
      "image/png": "[encoded data removed]",
      "text/plain": [
       "<Figure size 720x576 with 1 Axes>"
      ]
     },
     "metadata": {
      "needs_background": "light"
     },
     "output_type": "display_data"
    }
   ],
   "source": [
    "day_of_the_week_df = pd.DataFrame()\n",
    "day_of_the_week_df['Numeric'] = np.arange(0,7)\n",
    "day_of_the_week_df['String'] = ['Mon','Tue','Wed','Thu','Fri','Sat','Sun']\n",
    "\n",
    "xx = np.arange(len(calls_July_2018_by_DayOfWeek_Normalized))\n",
    "yy = calls_July_2018_by_DayOfWeek_Normalized.values\n",
    "x_label = 'Day of Week'\n",
    "y_label = 'Average Number of Calls per Day of Week in July 2018'\n",
    "\n",
    "fig = plt.figure(figsize = (10,8))\n",
    "ax = fig.add_subplot(1,1,1)\n",
    "plt.bar (xx , yy , color = 'lightgray',edgecolor = 'black')\n",
    "for i in range(len(xx)):\n",
    "    plt.text(xx[i]-0.4 , yy[i]+20 , str(round(yy[i],1)), fontsize = 13)\n",
    "plt.xticks (day_of_the_week_df['Numeric'] , day_of_the_week_df['String'] , rotation= 0)\n",
    "plt.xlabel(x_label, fontsize = 16)\n",
    "plt.ylabel(y_label, fontsize = 16)\n",
    "ax.tick_params(axis='both', which='major', labelsize=14)\n",
    "plt.savefig ('../Plots/calls/DayofWeek_2018_average_calls.pdf', bbox_inches = 'tight')"
   ]
  },
  {
   "cell_type": "markdown",
   "metadata": {},
   "source": [
    "## Wednesday hast the most average daily calls for service in July 2018."
   ]
  },
  {
   "cell_type": "code",
   "execution_count": null,
   "metadata": {},
   "outputs": [],
   "source": []
  }
 ],
 "metadata": {
  "kernelspec": {
   "display_name": "Python 3",
   "language": "python",
   "name": "python3"
  },
  "language_info": {
   "codemirror_mode": {
    "name": "ipython",
    "version": 3
   },
   "file_extension": ".py",
   "mimetype": "text/x-python",
   "name": "python",
   "nbconvert_exporter": "python",
   "pygments_lexer": "ipython3",
   "version": "3.7.4"
  }
 },
 "nbformat": 4,
 "nbformat_minor": 2
}
